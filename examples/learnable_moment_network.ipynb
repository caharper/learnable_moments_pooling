{
 "cells": [
  {
   "cell_type": "code",
   "execution_count": 2,
   "metadata": {},
   "outputs": [],
   "source": [
    "import tensorflow as tf\n",
    "from learnable_moments_pooling.learnable_stats import (\n",
    "    LearnableRawMoment1D,\n",
    "    LearnableCentralMoment1D,\n",
    ")"
   ]
  },
  {
   "cell_type": "code",
   "execution_count": 3,
   "metadata": {},
   "outputs": [
    {
     "name": "stdout",
     "output_type": "stream",
     "text": [
      "Model: \"model\"\n",
      "__________________________________________________________________________________________________\n",
      " Layer (type)                Output Shape                 Param #   Connected to                  \n",
      "==================================================================================================\n",
      " input_1 (InputLayer)        [(None, 100, 1)]             0         []                            \n",
      "                                                                                                  \n",
      " conv1 (Conv1D)              (None, 100, 10)              40        ['input_1[0][0]']             \n",
      "                                                                                                  \n",
      " learned_raw_moment (Learna  (None, 10)                   1         ['conv1[0][0]']               \n",
      " bleRawMoment1D)                                                                                  \n",
      "                                                                                                  \n",
      " learned_central_moment (Le  (None, 10)                   1         ['conv1[0][0]']               \n",
      " arnableCentralMoment1D)                                                                          \n",
      "                                                                                                  \n",
      " stat_vector (Concatenate)   (None, 20)                   0         ['learned_raw_moment[0][0]',  \n",
      "                                                                     'learned_central_moment[0][0]\n",
      "                                                                    ']                            \n",
      "                                                                                                  \n",
      " dense1 (Dense)              (None, 10)                   210       ['stat_vector[0][0]']         \n",
      "                                                                                                  \n",
      "==================================================================================================\n",
      "Total params: 252 (1008.00 Byte)\n",
      "Trainable params: 252 (1008.00 Byte)\n",
      "Non-trainable params: 0 (0.00 Byte)\n",
      "__________________________________________________________________________________________________\n"
     ]
    }
   ],
   "source": [
    "inputs = tf.keras.layers.Input(shape=(100, 1))\n",
    "net = inputs\n",
    "net = tf.keras.layers.Conv1D(10, 3, padding=\"same\", name=\"conv1\")(net)\n",
    "grp = LearnableRawMoment1D(name=\"learned_raw_moment\")(net)\n",
    "gcp = LearnableCentralMoment1D(name=\"learned_central_moment\")(net)\n",
    "net = tf.keras.layers.Concatenate(name=\"stat_vector\")([grp, gcp])\n",
    "net = tf.keras.layers.Dense(10, name=\"dense1\")(net)\n",
    "\n",
    "model = tf.keras.Model(inputs=inputs, outputs=net)\n",
    "model.summary()"
   ]
  },
  {
   "cell_type": "code",
   "execution_count": null,
   "metadata": {},
   "outputs": [],
   "source": []
  }
 ],
 "metadata": {
  "kernelspec": {
   "display_name": "lstat_test",
   "language": "python",
   "name": "python3"
  },
  "language_info": {
   "codemirror_mode": {
    "name": "ipython",
    "version": 3
   },
   "file_extension": ".py",
   "mimetype": "text/x-python",
   "name": "python",
   "nbconvert_exporter": "python",
   "pygments_lexer": "ipython3",
   "version": "3.11.7"
  }
 },
 "nbformat": 4,
 "nbformat_minor": 2
}
